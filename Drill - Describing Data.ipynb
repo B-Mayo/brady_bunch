{
 "cells": [
  {
   "cell_type": "markdown",
   "metadata": {},
   "source": [
    "# Describing Data - Drill"
   ]
  },
  {
   "cell_type": "markdown",
   "metadata": {},
   "source": [
    "Greg was 14, Marcia was 12, Peter was 11, Jan was 10, Bobby was 8, and Cindy was 6 when they started playing the Brady kids on The Brady Bunch. Cousin Oliver was 8 years old when he joined the show. What are the mean, median, and mode of the kids' ages when they first appeared on the show? What are the variance, standard deviation, and standard error?\n",
    "\n",
    "Using these estimates, if you had to choose only one estimate of central tendency and one estimate of variance to describe the data, which would you pick and why?\n",
    "\n",
    "Next, Cindy has a birthday. Update your estimates- what changed, and what didn't?\n",
    "\n",
    "Nobody likes Cousin Oliver. Maybe the network should have used an even younger actor. Replace Cousin Oliver with 1-year-old Jessica, then recalculate again. Does this change your choice of central tendency or variance estimation methods?\n",
    "\n",
    "On the 50th anniversary of The Brady Bunch, four different magazines asked their readers whether they were fans of the show. The answers were: TV Guide 20% fans Entertainment Weekly 23% fans Pop Culture Today 17% fans SciPhi Phanatic 5% fans\n",
    "\n",
    "Based on these numbers, what percentage of adult Americans would you estimate were Brady Bunch fans on the 50th anniversary of the show?"
   ]
  },
  {
   "cell_type": "code",
   "execution_count": 45,
   "metadata": {},
   "outputs": [
    {
     "data": {
      "text/html": [
       "<div>\n",
       "<style scoped>\n",
       "    .dataframe tbody tr th:only-of-type {\n",
       "        vertical-align: middle;\n",
       "    }\n",
       "\n",
       "    .dataframe tbody tr th {\n",
       "        vertical-align: top;\n",
       "    }\n",
       "\n",
       "    .dataframe thead th {\n",
       "        text-align: right;\n",
       "    }\n",
       "</style>\n",
       "<table border=\"1\" class=\"dataframe\">\n",
       "  <thead>\n",
       "    <tr style=\"text-align: right;\">\n",
       "      <th></th>\n",
       "      <th>Age</th>\n",
       "    </tr>\n",
       "    <tr>\n",
       "      <th>Names</th>\n",
       "      <th></th>\n",
       "    </tr>\n",
       "  </thead>\n",
       "  <tbody>\n",
       "    <tr>\n",
       "      <th>Greg</th>\n",
       "      <td>14</td>\n",
       "    </tr>\n",
       "    <tr>\n",
       "      <th>Marcia</th>\n",
       "      <td>12</td>\n",
       "    </tr>\n",
       "    <tr>\n",
       "      <th>Peter</th>\n",
       "      <td>11</td>\n",
       "    </tr>\n",
       "    <tr>\n",
       "      <th>Jan</th>\n",
       "      <td>10</td>\n",
       "    </tr>\n",
       "    <tr>\n",
       "      <th>Bobby</th>\n",
       "      <td>8</td>\n",
       "    </tr>\n",
       "    <tr>\n",
       "      <th>Cindy</th>\n",
       "      <td>6</td>\n",
       "    </tr>\n",
       "    <tr>\n",
       "      <th>Oliver</th>\n",
       "      <td>8</td>\n",
       "    </tr>\n",
       "  </tbody>\n",
       "</table>\n",
       "</div>"
      ],
      "text/plain": [
       "        Age\n",
       "Names      \n",
       "Greg     14\n",
       "Marcia   12\n",
       "Peter    11\n",
       "Jan      10\n",
       "Bobby     8\n",
       "Cindy     6\n",
       "Oliver    8"
      ]
     },
     "execution_count": 45,
     "metadata": {},
     "output_type": "execute_result"
    }
   ],
   "source": [
    "import pandas as pd\n",
    "import numpy as np\n",
    "\n",
    "#dictionary of names/ages of cast members\n",
    "brbunch = {'Greg': 14, 'Marcia': 12, 'Peter': 11, 'Jan': 10, 'Bobby': 8, 'Cindy':6, 'Oliver': 8}\n",
    "\n",
    "#create df of cast members \n",
    "bunch_df = pd.DataFrame.from_dict(brbunch, orient='index')\n",
    "bunch_df.columns = ['Age']\n",
    "bunch_df.index.name = 'Names'\n",
    "bunch_df"
   ]
  },
  {
   "cell_type": "code",
   "execution_count": 46,
   "metadata": {},
   "outputs": [
    {
     "name": "stdout",
     "output_type": "stream",
     "text": [
      "Bunch mean is 9.857142857142858\n",
      "Bunch mode is 8\n",
      "Bunch median is 10.0\n"
     ]
    }
   ],
   "source": [
    "#find central tendencies \n",
    "\n",
    "bunch_mean = bunch_df.mean()\n",
    "bunch_mode = bunch_df.mode()\n",
    "bunch_median = bunch_df.median()\n",
    "\n",
    "print('Bunch mean is', bunch_mean[0])\n",
    "print('Bunch mode is', bunch_mode['Age'][0])\n",
    "print('Bunch median is', bunch_median[0])"
   ]
  },
  {
   "cell_type": "code",
   "execution_count": 47,
   "metadata": {
    "scrolled": true
   },
   "outputs": [
    {
     "name": "stdout",
     "output_type": "stream",
     "text": [
      "Bunch variance is 6.408163265306122\n",
      "Bunch std is 2.531435020952764\n",
      "Bunch standard error is 0.9567925036515135\n"
     ]
    }
   ],
   "source": [
    "#find variance, standard deviation and standard error \n",
    "\n",
    "#setting ddoff to 0 since this is the population, not the sample \n",
    "bunch_var = bunch_df.Age.var(ddof=0)\n",
    "bunch_std = bunch_df.Age.std(ddof=0)\n",
    "bunch_se = bunch_df.Age.sem(ddof=0)\n",
    "\n",
    "print('Bunch variance is', bunch_var)\n",
    "print('Bunch std is', bunch_std)\n",
    "print('Bunch standard error is', bunch_se)\n"
   ]
  },
  {
   "cell_type": "markdown",
   "metadata": {},
   "source": [
    "### Using these estimates, if you had to choose only one estimate of central tendency and one estimate of variance to describe the data, which would you pick and why?\n",
    "\n",
    "If I had to choose one estimate of central tendency and of estimate of variance, I would chose mean and variance. I would chose these two because they show that the age of the kids on the show could be anywhere between 15 to 3 years old. "
   ]
  },
  {
   "cell_type": "markdown",
   "metadata": {},
   "source": [
    "### Next, Cindy has a birthday. Update your estimates- what changed, and what didn't?"
   ]
  },
  {
   "cell_type": "code",
   "execution_count": 48,
   "metadata": {},
   "outputs": [
    {
     "data": {
      "text/html": [
       "<div>\n",
       "<style scoped>\n",
       "    .dataframe tbody tr th:only-of-type {\n",
       "        vertical-align: middle;\n",
       "    }\n",
       "\n",
       "    .dataframe tbody tr th {\n",
       "        vertical-align: top;\n",
       "    }\n",
       "\n",
       "    .dataframe thead th {\n",
       "        text-align: right;\n",
       "    }\n",
       "</style>\n",
       "<table border=\"1\" class=\"dataframe\">\n",
       "  <thead>\n",
       "    <tr style=\"text-align: right;\">\n",
       "      <th></th>\n",
       "      <th>Age</th>\n",
       "    </tr>\n",
       "    <tr>\n",
       "      <th>Names</th>\n",
       "      <th></th>\n",
       "    </tr>\n",
       "  </thead>\n",
       "  <tbody>\n",
       "    <tr>\n",
       "      <th>Greg</th>\n",
       "      <td>14</td>\n",
       "    </tr>\n",
       "    <tr>\n",
       "      <th>Marcia</th>\n",
       "      <td>12</td>\n",
       "    </tr>\n",
       "    <tr>\n",
       "      <th>Peter</th>\n",
       "      <td>11</td>\n",
       "    </tr>\n",
       "    <tr>\n",
       "      <th>Jan</th>\n",
       "      <td>10</td>\n",
       "    </tr>\n",
       "    <tr>\n",
       "      <th>Bobby</th>\n",
       "      <td>8</td>\n",
       "    </tr>\n",
       "    <tr>\n",
       "      <th>Cindy</th>\n",
       "      <td>7</td>\n",
       "    </tr>\n",
       "    <tr>\n",
       "      <th>Oliver</th>\n",
       "      <td>8</td>\n",
       "    </tr>\n",
       "  </tbody>\n",
       "</table>\n",
       "</div>"
      ],
      "text/plain": [
       "        Age\n",
       "Names      \n",
       "Greg     14\n",
       "Marcia   12\n",
       "Peter    11\n",
       "Jan      10\n",
       "Bobby     8\n",
       "Cindy     7\n",
       "Oliver    8"
      ]
     },
     "execution_count": 48,
     "metadata": {},
     "output_type": "execute_result"
    }
   ],
   "source": [
    "#Cindy birthday has past, let's update the dataframe \n",
    "\n",
    "bunch_df.Age.Cindy += 1\n",
    "\n",
    "bunch_df"
   ]
  },
  {
   "cell_type": "code",
   "execution_count": 49,
   "metadata": {},
   "outputs": [
    {
     "name": "stdout",
     "output_type": "stream",
     "text": [
      "Bunch mean is 10.0\n",
      "Bunch mode is 8\n",
      "Bunch median is 10.0\n",
      "Bunch variance is 5.428571428571429\n",
      "Bunch std is 2.32992949004287\n",
      "Bunch standard error is 0.8806305718527109\n"
     ]
    }
   ],
   "source": [
    "#recalculate central tendency and variance data \n",
    "\n",
    "#find central tendencies \n",
    "\n",
    "bunch_mean = bunch_df.mean()\n",
    "bunch_mode = bunch_df.mode()\n",
    "bunch_median = bunch_df.median()\n",
    "\n",
    "print('Bunch mean is', bunch_mean[0])\n",
    "print('Bunch mode is', bunch_mode['Age'][0])\n",
    "print('Bunch median is', bunch_median[0])\n",
    "\n",
    "#find variance, standard deviation and standard error \n",
    "\n",
    "#setting ddoff to 0 since this is the population, not the sample \n",
    "bunch_var = bunch_df.Age.var(ddof=0)\n",
    "bunch_std = bunch_df.Age.std(ddof=0)\n",
    "bunch_se = bunch_df.Age.sem(ddof=0)\n",
    "\n",
    "print('Bunch variance is', bunch_var)\n",
    "print('Bunch std is', bunch_std)\n",
    "print('Bunch standard error is', bunch_se)"
   ]
  },
  {
   "cell_type": "markdown",
   "metadata": {},
   "source": [
    "After changing the df to reflect Cindy's birthday, the mean, variance, std and standard error changed. "
   ]
  },
  {
   "cell_type": "markdown",
   "metadata": {},
   "source": [
    "### Nobody likes Cousin Oliver. Maybe the network should have used an even younger actor. Replace Cousin Oliver with 1-year-old Jessica, then recalculate again. Does this change your choice of central tendency or variance estimation methods?"
   ]
  },
  {
   "cell_type": "code",
   "execution_count": 55,
   "metadata": {},
   "outputs": [
    {
     "data": {
      "text/html": [
       "<div>\n",
       "<style scoped>\n",
       "    .dataframe tbody tr th:only-of-type {\n",
       "        vertical-align: middle;\n",
       "    }\n",
       "\n",
       "    .dataframe tbody tr th {\n",
       "        vertical-align: top;\n",
       "    }\n",
       "\n",
       "    .dataframe thead th {\n",
       "        text-align: right;\n",
       "    }\n",
       "</style>\n",
       "<table border=\"1\" class=\"dataframe\">\n",
       "  <thead>\n",
       "    <tr style=\"text-align: right;\">\n",
       "      <th></th>\n",
       "      <th>Age</th>\n",
       "    </tr>\n",
       "    <tr>\n",
       "      <th>Names</th>\n",
       "      <th></th>\n",
       "    </tr>\n",
       "  </thead>\n",
       "  <tbody>\n",
       "    <tr>\n",
       "      <th>Greg</th>\n",
       "      <td>14</td>\n",
       "    </tr>\n",
       "    <tr>\n",
       "      <th>Marcia</th>\n",
       "      <td>12</td>\n",
       "    </tr>\n",
       "    <tr>\n",
       "      <th>Peter</th>\n",
       "      <td>11</td>\n",
       "    </tr>\n",
       "    <tr>\n",
       "      <th>Jan</th>\n",
       "      <td>10</td>\n",
       "    </tr>\n",
       "    <tr>\n",
       "      <th>Bobby</th>\n",
       "      <td>8</td>\n",
       "    </tr>\n",
       "    <tr>\n",
       "      <th>Cindy</th>\n",
       "      <td>7</td>\n",
       "    </tr>\n",
       "    <tr>\n",
       "      <th>Jessica</th>\n",
       "      <td>1</td>\n",
       "    </tr>\n",
       "  </tbody>\n",
       "</table>\n",
       "</div>"
      ],
      "text/plain": [
       "         Age\n",
       "Names       \n",
       "Greg      14\n",
       "Marcia    12\n",
       "Peter     11\n",
       "Jan       10\n",
       "Bobby      8\n",
       "Cindy      7\n",
       "Jessica    1"
      ]
     },
     "execution_count": 55,
     "metadata": {},
     "output_type": "execute_result"
    }
   ],
   "source": [
    "#update dataframe to reflect cast change \n",
    "\n",
    "bunch_df = bunch_df.rename(index={'Oliver':'Jessica'})\n",
    "bunch_df.Age.Jessica = 1\n",
    "bunch_df              "
   ]
  },
  {
   "cell_type": "code",
   "execution_count": 60,
   "metadata": {},
   "outputs": [
    {
     "name": "stdout",
     "output_type": "stream",
     "text": [
      "Bunch mean is 9.0\n",
      "Bunch mode is n/a\n",
      "Bunch median is 10.0\n",
      "Bunch variance is 15.428571428571429\n",
      "Bunch std is 3.927922024247863\n",
      "Bunch standard error is 1.4846149779161806\n"
     ]
    }
   ],
   "source": [
    "#recalculate central tendency and variance data \n",
    "\n",
    "#find central tendencies \n",
    "\n",
    "bunch_mean = bunch_df.mean()\n",
    "bunch_mode = bunch_df.mode()\n",
    "bunch_median = bunch_df.median()\n",
    "\n",
    "print('Bunch mean is', bunch_mean[0])\n",
    "print('Bunch mode is n/a')\n",
    "print('Bunch median is', bunch_median[0])\n",
    "\n",
    "#find variance, standard deviation and standard error \n",
    "\n",
    "#setting ddoff to 0 since this is the population, not the sample \n",
    "bunch_var = bunch_df.Age.var(ddof=0)\n",
    "bunch_std = bunch_df.Age.std(ddof=0)\n",
    "bunch_se = bunch_df.Age.sem(ddof=0)\n",
    "\n",
    "print('Bunch variance is', bunch_var)\n",
    "print('Bunch std is', bunch_std)\n",
    "print('Bunch standard error is', bunch_se)"
   ]
  },
  {
   "cell_type": "markdown",
   "metadata": {},
   "source": [
    "After reviewing the new central tendency and variance values, I would change my choice of estimating methods to median and standard error in order to show that the age of the kids on brandy bunch vary greatly. "
   ]
  },
  {
   "cell_type": "markdown",
   "metadata": {},
   "source": [
    "#### On the 50th anniversary of The Brady Bunch, four different magazines asked their readers whether they were fans of the show. The answers were: TV Guide 20% fans Entertainment Weekly 23% fans Pop Culture Today 17% fans SciPhi Phanatic 5% fans. Based on these numbers, what percentage of adult Americans would you estimate were Brady Bunch fans on the 50th anniversary of the show?\n",
    "I would take the average of the percentages listed by TV Guide, Entertainment Weekly, and Pop Culture. I would not use SciPhi Phanatic for two reasons: 1) If you are a fan of SciPhi Phanatic, you probably watch shows like Star Trek; 2) the 5% is a outlier. "
   ]
  },
  {
   "cell_type": "code",
   "execution_count": 63,
   "metadata": {},
   "outputs": [
    {
     "data": {
      "text/plain": [
       "20.0"
      ]
     },
     "execution_count": 63,
     "metadata": {},
     "output_type": "execute_result"
    }
   ],
   "source": [
    "avg_adult_fan = (20+23+17)/3\n",
    "avg_adult_fan"
   ]
  },
  {
   "cell_type": "markdown",
   "metadata": {},
   "source": [
    "I would guess that the percentage of adult American that were Brady Bunch Fans is 20%. "
   ]
  }
 ],
 "metadata": {
  "kernelspec": {
   "display_name": "Python 3",
   "language": "python",
   "name": "python3"
  },
  "language_info": {
   "codemirror_mode": {
    "name": "ipython",
    "version": 3
   },
   "file_extension": ".py",
   "mimetype": "text/x-python",
   "name": "python",
   "nbconvert_exporter": "python",
   "pygments_lexer": "ipython3",
   "version": "3.6.5"
  }
 },
 "nbformat": 4,
 "nbformat_minor": 2
}
